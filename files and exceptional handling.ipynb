{
 "cells": [
  {
   "cell_type": "markdown",
   "id": "61636832-b091-4792-a4de-da1ff4819e62",
   "metadata": {},
   "source": [
    "#FILES AND EXCEPTIONAL HANDLING"
   ]
  },
  {
   "cell_type": "markdown",
   "id": "dc3b0fca-a786-48b3-809a-eeebf0bc4f56",
   "metadata": {},
   "source": [
    "##1 Discuss the scenarios where multithreading is preferable to multiprocessing and scenarios where \n",
    "multiprocessing is a better choic.e"
   ]
  },
  {
   "cell_type": "code",
   "execution_count": 3,
   "id": "cab7c272-7356-43bf-8fb5-1380162356a4",
   "metadata": {},
   "outputs": [],
   "source": [
    "#Use Multithreading for I/O-bound tasks, scenarios with shared data, or when low memory overhead and responsiveness are key.\n",
    "#Use Multiprocessing for CPU-bound tasks, when isolation is important, and to leverage multi-core systems effectively."
   ]
  },
  {
   "cell_type": "markdown",
   "id": "7075197e-1a66-4924-bd7a-445e0eeb5105",
   "metadata": {},
   "source": [
    "##2  Describe what a process pool is and how it helps in managing multiple processes efficiently."
   ]
  },
  {
   "cell_type": "code",
   "execution_count": 6,
   "id": "2f0e4a06-efe6-4c42-afb0-f04d3ad088ae",
   "metadata": {},
   "outputs": [],
   "source": [
    "#A process pool is an effective way to manage multiple processes, improving performance, resource efficiency, and scalability in concurrent applications. By reusing processes and balancing loads, it streamlines the execution of parallel tasks, making it a popular choice in many programming environments.\n",
    "#Key Features of a Process Pool:\n",
    "#Pre-Allocated Processes:\n",
    "#A fixed number of processes are created and maintained in the pool. This eliminates the overhead associated with process creation and destruction, which can be time-consuming.\n",
    "\n",
    "#Task Queue:\n",
    "#Tasks are placed in a queue, and the available processes in the pool pick them up for execution. This allows for efficient handling of workload, as idle processes can immediately take on new tasks.\n",
    "\n",
    "#Concurrency Control:\n",
    "#The process pool manages the maximum number of concurrent processes, preventing system overload and ensuring that system resources (like CPU and memory) are utilized optimally.\n",
    "\n",
    "#Load Balancing:\n",
    "#By distributing tasks evenly across the available processes, the process pool helps balance the load and reduce the likelihood of bottlenecks."
   ]
  },
  {
   "cell_type": "markdown",
   "id": "2390b9cd-bf92-49b9-a045-b5fb14e8d292",
   "metadata": {},
   "source": [
    "##3  Explain what multiprocessing is and why it is used in Python programs."
   ]
  },
  {
   "cell_type": "code",
   "execution_count": 9,
   "id": "87d89110-dab5-426e-90a8-d5b100d6a852",
   "metadata": {},
   "outputs": [],
   "source": [
    "#Multiprocessing is a programming paradigm that allows the execution of multiple processes simultaneously, enabling parallel processing and leveraging multiple CPU cores. In contrast to multithreading, which involves multiple threads within a single process, multiprocessing creates separate processes, each with its own memory space.\n",
    "#Bypasses the GIL: It allows true parallel execution by creating separate processes, each with its own Python interpreter, overcoming the limitations of the Global Interpreter Lock.\n",
    "\n",
    "#Improves Performance: Particularly beneficial for CPU-bound tasks, multiprocessing can distribute computations across multiple CPU cores, leading to better performance.\n",
    "\n",
    "#Isolation: Each process runs independently, enhancing stability since a crash in one process does not affect others.\n",
    "\n",
    "#Resource Management: It allows for better control of system resources, preventing contention and managing memory usage effectively.\n",
    "\n",
    "#Scalability: Multiprocessing can scale easily across multiple cores and machines, making it suitable for larger applications.\n",
    "\n",
    "#Simplified Code Structure: In some cases, multiprocessing provides a clearer model for handling concurrency compared to multithreading."
   ]
  },
  {
   "cell_type": "markdown",
   "id": "df794a51-0726-4f0d-b623-423757f7caa1",
   "metadata": {},
   "source": [
    "##4  Write a Python program using multithreading where one thread adds numbers to a list, and another \n",
    "thread removes numbers from the list. Implemen  a mechanism to avoid race conditions usin \r\n",
    "threading.Lock."
   ]
  },
  {
   "cell_type": "code",
   "execution_count": 12,
   "id": "317e101e-c0e8-4713-8768-76ff3a4c8ef3",
   "metadata": {},
   "outputs": [
    {
     "name": "stdout",
     "output_type": "stream",
     "text": [
      "Added: 0. List now: [0]\n",
      "Removed: 0. List now: []\n",
      "Added: 1. List now: [1]\n",
      "Removed: 1. List now: []\n",
      "Added: 2. List now: [2]\n",
      "Removed: 2. List now: []\n",
      "Added: 3. List now: [3]\n",
      "Added: 4. List now: [3, 4]\n",
      "Removed: 3. List now: [4]\n",
      "Removed: 4. List now: []\n",
      "Added: 5. List now: [5]\n",
      "Removed: 5. List now: []\n",
      "Added: 6. List now: [6]\n",
      "Removed: 6. List now: []\n",
      "Added: 7. List now: [7]\n",
      "Added: 8. List now: [7, 8]\n",
      "Removed: 7. List now: [8]\n",
      "Added: 9. List now: [8, 9]\n",
      "Removed: 8. List now: [9]\n",
      "Removed: 9. List now: []\n",
      "Final list: []\n"
     ]
    }
   ],
   "source": [
    "import threading\n",
    "import time\n",
    "import random\n",
    "\n",
    "# Shared list\n",
    "number_list = []\n",
    "# Create a lock\n",
    "lock = threading.Lock()\n",
    "\n",
    "def add_numbers():\n",
    "    for i in range(10):\n",
    "        time.sleep(random.uniform(0.1, 0.5))  # Simulate some delay\n",
    "        with lock:  # Acquire the lock before modifying the list\n",
    "            number_list.append(i)\n",
    "            print(f\"Added: {i}. List now: {number_list}\")\n",
    "\n",
    "def remove_numbers():\n",
    "    for _ in range(10):\n",
    "        time.sleep(random.uniform(0.1, 0.5))  # Simulate some delay\n",
    "        with lock:  # Acquire the lock before modifying the list\n",
    "            if number_list:\n",
    "                removed = number_list.pop(0)\n",
    "                print(f\"Removed: {removed}. List now: {number_list}\")\n",
    "            else:\n",
    "                print(\"List is empty, nothing to remove.\")\n",
    "\n",
    "if __name__ == \"__main__\":\n",
    "    # Create threads\n",
    "    add_thread = threading.Thread(target=add_numbers)\n",
    "    remove_thread = threading.Thread(target=remove_numbers)\n",
    "\n",
    "    # Start threads\n",
    "    add_thread.start()\n",
    "    remove_thread.start()\n",
    "\n",
    "    # Wait for both threads to finish\n",
    "    add_thread.join()\n",
    "    remove_thread.join()\n",
    "\n",
    "    print(\"Final list:\", number_list)\n"
   ]
  },
  {
   "cell_type": "markdown",
   "id": "a42e9ab3-a492-4bef-95c9-8a612591f5e4",
   "metadata": {},
   "source": [
    "##5 Describe the methods and tools available in Python for safely sharing data between threads and \n",
    "processes."
   ]
  },
  {
   "cell_type": "code",
   "execution_count": 15,
   "id": "f44ecba1-5495-40e8-b03a-2d0dc4423855",
   "metadata": {},
   "outputs": [],
   "source": [
    "#1. Threading Module\n",
    "#a. threading.Lock\n",
    "#A simple synchronization primitive that can be acquired and released to prevent simultaneous access to shared resources. This is useful for protecting critical sections of code.\n",
    "\n",
    "#b. threading.RLock\n",
    "#A reentrant lock that allows a thread to acquire it multiple times. It’s useful when a thread needs to enter a critical section more than once.\n",
    "\n",
    "#c. threading.Semaphore\n",
    "#A semaphore maintains a counter that allows a certain number of threads to access a resource concurrently. It’s useful for limiting access to a pool of resources.\n",
    "\n",
    "#d. threading.Condition\n",
    "#A condition variable allows threads to wait until a certain condition is met. It’s useful for signaling between threads.\n",
    "\n",
    "#e. threading.Event\n",
    "#An event is a simple way to communicate between threads. One thread can signal an event, and other threads can wait for that signal.\n",
    "\n",
    "#2. Queue Module\n",
    "#a. queue.Queue\n",
    "#A thread-safe FIFO queue that allows safe communication between threads. It handles the locking internally, making it easy to share data between threads without explicit locking.\n",
    "\n",
    "#b. queue.LifoQueue and queue.PriorityQueue\n",
    "#Other types of queues that also provide thread-safe operations for Last-In-First-Out (LIFO) and priority-based processing.\n",
    "\n",
    "#3. Multiprocessing Module\n",
    "#a. multiprocessing.Queue\n",
    "\n",
    "#Similar to queue.Queue, but designed for use between processes. It allows safe sharing of data between multiple processes.\n",
    "#b. multiprocessing.Lock\n",
    "#A lock that can be used with processes to prevent simultaneous access to shared resources.\n",
    "\n",
    "#c. multiprocessing.Value and multiprocessing.Array\n",
    "#These allow sharing of data between processes by providing a way to create shared objects. Value can hold a single value, while Array can hold a sequence of values.\n",
    "\n",
    "#d. multiprocessing.Manager\n",
    "#A manager object can be used to create shared data structures, such as lists, dictionaries, and arrays, that can be safely accessed by multiple processes.\n",
    "\n",
    "#4. Shared Memory (Python 3.8+)\n",
    "#a. multiprocessing.shared_memory\n",
    "#This module allows for the creation of shared memory blocks that can be accessed by multiple processes. It’s efficient for large datasets, as it avoids copying data.\n",
    "\n",
    "#5. Thread-Local Storage\n",
    "#a. threading.local()\n",
    "#This provides a way to create thread-local data, meaning each thread can have its own separate instance of a variable without interference from other threads."
   ]
  },
  {
   "cell_type": "markdown",
   "id": "37bf3eba-c9df-4824-8897-bc77f21e9607",
   "metadata": {},
   "source": [
    "##6 Discuss why it’s crucial to handle exceptions in concurrent programs and the techniques available for \n",
    "doing so."
   ]
  },
  {
   "cell_type": "code",
   "execution_count": 21,
   "id": "7208a77f-f13b-4fdc-96f5-c0b01bc7281e",
   "metadata": {},
   "outputs": [],
   "source": [
    "#Importance of Exception Handling in Concurrent Programs\n",
    "#Stability and Reliability:\n",
    "#Unhandled exceptions can cause entire programs or threads to crash, leading to instability. Proper exception handling ensures that a program can recover gracefully or terminate safely without losing data or resources.\n",
    "\n",
    "#Resource Management:\n",
    "#In concurrent environments, resources such as file handles, network connections, and memory must be managed carefully. Exceptions can lead to resource leaks if they aren’t handled properly.\n",
    "\n",
    "#Debugging and Maintenance:\n",
    "#Exceptions provide valuable information for diagnosing issues. Handling them correctly allows developers to log errors and maintain clearer insights into program behavior, making debugging easier.\n",
    "\n",
    "#Inter-thread Communication:\n",
    "#Exceptions can propagate between threads and processes. Managing these exceptions ensures that one thread's failure doesn't compromise the entire application's integrity.\n",
    "\n",
    "#User Experience:\n",
    "#For user-facing applications, exceptions can lead to a poor user experience. Proper handling can provide meaningful error messages or fallback behavior, improving usability."
   ]
  },
  {
   "cell_type": "code",
   "execution_count": 27,
   "id": "446aa77b-630f-4b5d-9206-9f33ddb763d6",
   "metadata": {},
   "outputs": [
    {
     "name": "stdout",
     "output_type": "stream",
     "text": [
      "Caught an exception: An error occurred\n"
     ]
    }
   ],
   "source": [
    "#Techniques for Handling Exceptions in Concurrent Programs\n",
    "#Try-Except Blocks:\n",
    "#Use try-except blocks within the worker functions to catch and handle exceptions specific to that thread or process.\n",
    "def worker():\n",
    "    try:\n",
    "        # Code that may raise an exception\n",
    "        ...\n",
    "    except Exception as e:\n",
    "        print(f\"Error in worker: {e}\")\n",
    "#Logging:\n",
    "#Implement logging within the exception handling code to record errors. This can help in diagnosing issues later.\n",
    "import logging\n",
    "\n",
    "logging.basicConfig(level=logging.ERROR)\n",
    "\n",
    "def worker():\n",
    "    try:\n",
    "        ...\n",
    "    except Exception as e:\n",
    "        logging.error(f\"Error in worker: {e}\")\n",
    "#Thread and Process Termination:\n",
    "#In threads, if an exception occurs, it doesn’t terminate the entire program but will stop the affected thread. Consider using thread-safe mechanisms to communicate failures to the main thread.\n",
    "\n",
    "#Using Futures:\n",
    "#With the concurrent.futures module, you can use Future objects to handle exceptions raised in worker threads. The result() method will raise any exception that occurred during the execution of the callable.\n",
    "from concurrent.futures import ThreadPoolExecutor\n",
    "\n",
    "def task():\n",
    "    raise ValueError(\"An error occurred\")\n",
    "\n",
    "with ThreadPoolExecutor() as executor:\n",
    "    future = executor.submit(task)\n",
    "    try:\n",
    "        result = future.result()  # This will raise the ValueError\n",
    "    except Exception as e:\n",
    "        print(f\"Caught an exception: {e}\")\n",
    "#Custom Exception Handling:\n",
    "#Define custom exceptions for specific error conditions and handle them appropriately. This can help differentiate between different types of errors.\n",
    "\n",
    "#Using Context Managers:\n",
    "#In some cases, using context managers (e.g., with statements) can help manage resources and handle exceptions more gracefully.\n",
    "\n",
    "#Error Propagation:\n",
    "#Ensure that your error handling logic considers how exceptions will propagate between threads or processes. You may want to communicate errors back to the main thread or log them in a centralized manner."
   ]
  },
  {
   "cell_type": "markdown",
   "id": "c82e26b6-a062-4a96-afba-a9f5832c9553",
   "metadata": {},
   "source": [
    "##7 Create a program that uses a thread pool to calculate the factorial of numbers from 1 to 10 concurrently. Use  concurrent.futures.ThreadPoolExecutor to manage the threads."
   ]
  },
  {
   "cell_type": "code",
   "execution_count": 30,
   "id": "10b12052-af8c-4ad3-9835-68f8b9be4ed9",
   "metadata": {},
   "outputs": [
    {
     "name": "stdout",
     "output_type": "stream",
     "text": [
      "Factorial of 1 is 1\n",
      "Factorial of 2 is 2\n",
      "Factorial of 3 is 6\n",
      "Factorial of 4 is 24\n",
      "Factorial of 5 is 120\n",
      "Factorial of 6 is 720\n",
      "Factorial of 7 is 5040\n",
      "Factorial of 8 is 40320\n",
      "Factorial of 9 is 362880\n",
      "Factorial of 10 is 3628800\n"
     ]
    }
   ],
   "source": [
    "import concurrent.futures\n",
    "import math\n",
    "\n",
    "def calculate_factorial(n):\n",
    "    \"\"\"Function to calculate the factorial of a number.\"\"\"\n",
    "    return math.factorial(n)\n",
    "\n",
    "if __name__ == \"__main__\":\n",
    "    # Create a ThreadPoolExecutor\n",
    "    with concurrent.futures.ThreadPoolExecutor() as executor:\n",
    "        # Map the calculate_factorial function to the range of numbers\n",
    "        results = list(executor.map(calculate_factorial, range(1, 11)))\n",
    "\n",
    "    # Print the results\n",
    "    for number, factorial in zip(range(1, 11), results):\n",
    "        print(f\"Factorial of {number} is {factorial}\")\n"
   ]
  },
  {
   "cell_type": "markdown",
   "id": "8f5764a7-97e1-497d-85f5-3f3eee765e18",
   "metadata": {},
   "source": [
    "##8 Create a Python program that uses multiprocessing.Pool to compute the square of numbers from 1 to 10 in \n",
    "parallel. Measure the time taken t  perform this computation using a pool of different sizes (e.g., 2, 4,  \r\n",
    "processes)."
   ]
  },
  {
   "cell_type": "code",
   "execution_count": null,
   "id": "28bdeca5-8075-4961-bd8a-0b487bf355eb",
   "metadata": {},
   "outputs": [],
   "source": [
    "import multiprocessing\n",
    "import time\n",
    "\n",
    "def square(n):\n",
    "    \"\"\"Function to compute the square of a number.\"\"\"\n",
    "    return n * n\n",
    "\n",
    "def compute_squares(pool_size):\n",
    "    \"\"\"Function to compute squares using a pool of processes.\"\"\"\n",
    "    with multiprocessing.Pool(pool_size) as pool:\n",
    "        results = pool.map(square, range(1, 11))\n",
    "    return results\n",
    "\n",
    "if __name__ == \"__main__\":\n",
    "    # List of pool sizes to test\n",
    "    pool_sizes = [2, 4, 8]\n",
    "\n",
    "    for size in pool_sizes:\n",
    "        start_time = time.time()  # Start timing\n",
    "        results = compute_squares(size)  # Compute squares\n",
    "        end_time = time.time()  # End timing\n",
    "\n",
    "        # Print results\n",
    "        print(f\"Pool size: {size}, Results: {results}, Time taken: {end_time - start_time:.4f} seconds\")\n"
   ]
  },
  {
   "cell_type": "code",
   "execution_count": null,
   "id": "910f0e79-1f89-45a5-9676-1283a070ce47",
   "metadata": {},
   "outputs": [],
   "source": []
  }
 ],
 "metadata": {
  "kernelspec": {
   "display_name": "Python 3 (ipykernel)",
   "language": "python",
   "name": "python3"
  },
  "language_info": {
   "codemirror_mode": {
    "name": "ipython",
    "version": 3
   },
   "file_extension": ".py",
   "mimetype": "text/x-python",
   "name": "python",
   "nbconvert_exporter": "python",
   "pygments_lexer": "ipython3",
   "version": "3.12.4"
  }
 },
 "nbformat": 4,
 "nbformat_minor": 5
}
